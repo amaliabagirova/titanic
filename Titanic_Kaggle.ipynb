{
 "cells": [
  {
   "cell_type": "markdown",
   "id": "d6863374",
   "metadata": {},
   "source": [
    "# The Challenge\n",
    "\n",
    "The sinking of the Titanic is one of the most infamous shipwrecks in history.\n",
    "\n",
    "On April 15, 1912, during her maiden voyage, the widely considered “unsinkable” RMS Titanic sank after colliding with an iceberg. Unfortunately, there weren’t enough lifeboats for everyone onboard, resulting in the death of 1502 out of 2224 passengers and crew.\n",
    "\n",
    "While there was some element of luck involved in surviving, it seems some groups of people were more likely to survive than others.\n",
    "\n",
    "In this challenge, we ask you to build a predictive model that answers the question: “what sorts of people were more likely to survive?” using passenger data (ie name, age, gender, socio-economic class, etc)."
   ]
  },
  {
   "cell_type": "markdown",
   "id": "ccb5f56a",
   "metadata": {},
   "source": [
    "## What Data Will I Use in This Competition?\n",
    "\n",
    "In this competition, I’ll gain access to two similar datasets that include passenger information like name, age, gender, socio-economic class, etc. One dataset is titled train.csv and the other is titled test.csv.\n",
    "\n",
    "**Train.csv** will contain the details of a subset of the passengers on board (891 to be exact) and importantly, will reveal whether they survived or not, also known as the “ground truth”.\n",
    "\n",
    "The **test.csv** dataset contains similar information but does not disclose the “ground truth” for each passenger. "
   ]
  },
  {
   "cell_type": "markdown",
   "id": "837aa183",
   "metadata": {},
   "source": [
    "## Algorithm\n",
    "\n",
    "### The Goal: \n",
    "to build a predictive model that answers the question: “what sorts of people were more likely to survive?” using passenger data (ie name, age, gender, socio-economic class, etc).\n",
    "\n",
    "#### Tasks:\n",
    "\n",
    "**1. Formalized Task**\n",
    "\n",
    "**2. Preprocessing Data**\n",
    "        \n",
    "        2.1. Importing the libraries\n",
    "        2.2. Importing the dataset\n",
    "        2.3. Dealing with the missing data in the dataset\n",
    "        2.4. Encoding categorical data\n",
    "        2.5. Splitting the dataset into training set and test set\n",
    "        2.6. Feature scaling\n",
    "\n",
    "**3. Building the model**"
   ]
  },
  {
   "cell_type": "markdown",
   "id": "c04f40ce",
   "metadata": {},
   "source": [
    "### Step 1. Formalized Task\n",
    "\n",
    "When choosing an algorithm for the problem of predicting a survivor on the Titanic, we will be guided by the principle of model interpretability. This means that we will choose algorithms that make it easy to understand which factors influence survival prediction and how much.\n",
    "\n",
    "For example, linear regression is one of the most interpretable algorithms, as it allows you to evaluate the impact of each of the factors on survival. If we see that simplifying the model to linear regression does not lead to a significant deterioration in the results, then we will use this algorithm.\n",
    "\n",
    "However, if we see that simplifying the model to linear regression leads to a significant deterioration in the results, then we will use more complex algorithms, such as gradient boosting or neural networks. At the same time, we will take into account that the results of these algorithms may be less interpretable and require additional analysis and verification before making decisions based on these results.\n",
    "\n",
    "Thus, when choosing an algorithm for a problem, we will pay special attention to the interpretability of the model and use more complex algorithms only if simplifying the model leads to worse results.\n",
    "\n",
    "Thus, the formalized task at the first stage of the primary model selection is as follows:\n",
    "\n",
    "**Model** with k features:\n",
    "$$\n",
    "a(x) = w_0 + w_1x^1 + \\dots w_kx^k = \\langle w, x \\rangle,\\\\\n",
    "x = (1, x^1, \\dots, x^k)\n",
    "$$\n"
   ]
  },
  {
   "cell_type": "markdown",
   "id": "60ac80de",
   "metadata": {},
   "source": [
    "At the same time, we understand that life/death assessment is a binary category. Thus, to solve the problem, we will use **logistic regression**, which is a special case of generalized linear regression\n"
   ]
  },
  {
   "cell_type": "markdown",
   "id": "cba2b69d",
   "metadata": {},
   "source": [
    "We will teach a linear model to correctly predict some object associated with a probability, but with a range of values $$(\\infty; -\\infty),$$ \n",
    "\n",
    "and convert the model's responses to a probability. Such an object is **logit** or **log odds** — the logarithm of the ratio of the probability of a positive event to a negative one $$\n",
    "\\log(\\frac{p}{1-p}).\n",
    "$$"
   ]
  },
  {
   "cell_type": "markdown",
   "id": "9bf0eb95",
   "metadata": {},
   "source": [
    "For further analysis, we will use the sigmoid $$p = \\sigma(\\langle w, x \\rangle) $$"
   ]
  },
  {
   "cell_type": "markdown",
   "id": "365a6309",
   "metadata": {},
   "source": [
    "The assumptions of logistic regression are almost identical to those for linear regression:\n",
    "\n",
    "1. the dependent variable must be binary, usually encoded as zero and one;\n",
    "2. independence of observations from each other;\n",
    "3. lack of multicollinearity;\n",
    "4. sufficient sample size (at least thirty observations);\n",
    "5. no outliers."
   ]
  },
  {
   "cell_type": "markdown",
   "id": "d8af3915",
   "metadata": {},
   "source": [
    "### Step 2. Preprocessing Data"
   ]
  },
  {
   "cell_type": "markdown",
   "id": "8a97fe61",
   "metadata": {},
   "source": [
    "Basic **preprocessing** techniques used to convert raw data into clean data involve the following steps:\n",
    "    \n",
    "1. Conversion of data: Data in any form must be converted into numeric form for machine learning models to handle it.\n",
    "2. Handling the missing values: Whenever any missing data in a data set is observed, one of the following can be considered:\n",
    "\n",
    "    a. Ignoring the missing values: The corresponding row or column of data can be removed as needed.\n",
    "    \n",
    "    b. Filling the missing values: In this approach, the missing data can be filled manually. The value added in the missing data field can be the mean, median or the highest frequency value.\n",
    "    \n",
    "    c. Machine learning: Another approach is to predict the data that can be added in the empty position based on the existing data.\n",
    "    \n",
    "3. Outlier detection: Some data might deviate drastically from other observations in the data set; such type of data is said to be error data.\n",
    "\n",
    "Thus, data preprocessing forms one of the most important steps in machine learning to build accurate machine learning models."
   ]
  },
  {
   "cell_type": "markdown",
   "id": "9178c7ff",
   "metadata": {},
   "source": [
    "#### 2.1. Imports dependencies"
   ]
  },
  {
   "cell_type": "code",
   "execution_count": 1,
   "id": "73dbd9df",
   "metadata": {},
   "outputs": [],
   "source": [
    "import numpy as np\n",
    "import pandas as pd\n",
    "import seaborn as sns\n",
    "import matplotlib.pyplot as plt\n",
    "import warnings\n",
    "warnings.filterwarnings(\"ignore\")"
   ]
  },
  {
   "cell_type": "markdown",
   "id": "e184f111",
   "metadata": {},
   "source": [
    "#### 2.2. Load dataset"
   ]
  },
  {
   "cell_type": "code",
   "execution_count": 2,
   "id": "11abed3f",
   "metadata": {},
   "outputs": [],
   "source": [
    "train = pd.read_csv('train.csv')\n",
    "test = pd.read_csv('test.csv')"
   ]
  },
  {
   "cell_type": "code",
   "execution_count": 3,
   "id": "89473e09",
   "metadata": {},
   "outputs": [
    {
     "data": {
      "text/html": [
       "<div>\n",
       "<style scoped>\n",
       "    .dataframe tbody tr th:only-of-type {\n",
       "        vertical-align: middle;\n",
       "    }\n",
       "\n",
       "    .dataframe tbody tr th {\n",
       "        vertical-align: top;\n",
       "    }\n",
       "\n",
       "    .dataframe thead th {\n",
       "        text-align: right;\n",
       "    }\n",
       "</style>\n",
       "<table border=\"1\" class=\"dataframe\">\n",
       "  <thead>\n",
       "    <tr style=\"text-align: right;\">\n",
       "      <th></th>\n",
       "      <th>PassengerId</th>\n",
       "      <th>Survived</th>\n",
       "      <th>Pclass</th>\n",
       "      <th>Name</th>\n",
       "      <th>Sex</th>\n",
       "      <th>Age</th>\n",
       "      <th>SibSp</th>\n",
       "      <th>Parch</th>\n",
       "      <th>Ticket</th>\n",
       "      <th>Fare</th>\n",
       "      <th>Cabin</th>\n",
       "      <th>Embarked</th>\n",
       "    </tr>\n",
       "  </thead>\n",
       "  <tbody>\n",
       "    <tr>\n",
       "      <th>293</th>\n",
       "      <td>294</td>\n",
       "      <td>0</td>\n",
       "      <td>3</td>\n",
       "      <td>Haas, Miss. Aloisia</td>\n",
       "      <td>female</td>\n",
       "      <td>24.0</td>\n",
       "      <td>0</td>\n",
       "      <td>0</td>\n",
       "      <td>349236</td>\n",
       "      <td>8.8500</td>\n",
       "      <td>NaN</td>\n",
       "      <td>S</td>\n",
       "    </tr>\n",
       "    <tr>\n",
       "      <th>319</th>\n",
       "      <td>320</td>\n",
       "      <td>1</td>\n",
       "      <td>1</td>\n",
       "      <td>Spedden, Mrs. Frederic Oakley (Margaretta Corn...</td>\n",
       "      <td>female</td>\n",
       "      <td>40.0</td>\n",
       "      <td>1</td>\n",
       "      <td>1</td>\n",
       "      <td>16966</td>\n",
       "      <td>134.5000</td>\n",
       "      <td>E34</td>\n",
       "      <td>C</td>\n",
       "    </tr>\n",
       "    <tr>\n",
       "      <th>820</th>\n",
       "      <td>821</td>\n",
       "      <td>1</td>\n",
       "      <td>1</td>\n",
       "      <td>Hays, Mrs. Charles Melville (Clara Jennings Gr...</td>\n",
       "      <td>female</td>\n",
       "      <td>52.0</td>\n",
       "      <td>1</td>\n",
       "      <td>1</td>\n",
       "      <td>12749</td>\n",
       "      <td>93.5000</td>\n",
       "      <td>B69</td>\n",
       "      <td>S</td>\n",
       "    </tr>\n",
       "    <tr>\n",
       "      <th>866</th>\n",
       "      <td>867</td>\n",
       "      <td>1</td>\n",
       "      <td>2</td>\n",
       "      <td>Duran y More, Miss. Asuncion</td>\n",
       "      <td>female</td>\n",
       "      <td>27.0</td>\n",
       "      <td>1</td>\n",
       "      <td>0</td>\n",
       "      <td>SC/PARIS 2149</td>\n",
       "      <td>13.8583</td>\n",
       "      <td>NaN</td>\n",
       "      <td>C</td>\n",
       "    </tr>\n",
       "    <tr>\n",
       "      <th>693</th>\n",
       "      <td>694</td>\n",
       "      <td>0</td>\n",
       "      <td>3</td>\n",
       "      <td>Saad, Mr. Khalil</td>\n",
       "      <td>male</td>\n",
       "      <td>25.0</td>\n",
       "      <td>0</td>\n",
       "      <td>0</td>\n",
       "      <td>2672</td>\n",
       "      <td>7.2250</td>\n",
       "      <td>NaN</td>\n",
       "      <td>C</td>\n",
       "    </tr>\n",
       "  </tbody>\n",
       "</table>\n",
       "</div>"
      ],
      "text/plain": [
       "     PassengerId  Survived  Pclass   \n",
       "293          294         0       3  \\\n",
       "319          320         1       1   \n",
       "820          821         1       1   \n",
       "866          867         1       2   \n",
       "693          694         0       3   \n",
       "\n",
       "                                                  Name     Sex   Age  SibSp   \n",
       "293                                Haas, Miss. Aloisia  female  24.0      0  \\\n",
       "319  Spedden, Mrs. Frederic Oakley (Margaretta Corn...  female  40.0      1   \n",
       "820  Hays, Mrs. Charles Melville (Clara Jennings Gr...  female  52.0      1   \n",
       "866                       Duran y More, Miss. Asuncion  female  27.0      1   \n",
       "693                                   Saad, Mr. Khalil    male  25.0      0   \n",
       "\n",
       "     Parch         Ticket      Fare Cabin Embarked  \n",
       "293      0         349236    8.8500   NaN        S  \n",
       "319      1          16966  134.5000   E34        C  \n",
       "820      1          12749   93.5000   B69        S  \n",
       "866      0  SC/PARIS 2149   13.8583   NaN        C  \n",
       "693      0           2672    7.2250   NaN        C  "
      ]
     },
     "execution_count": 3,
     "metadata": {},
     "output_type": "execute_result"
    }
   ],
   "source": [
    "train.sample(5)"
   ]
  },
  {
   "cell_type": "code",
   "execution_count": 4,
   "id": "1e8c1ed0",
   "metadata": {},
   "outputs": [
    {
     "data": {
      "text/html": [
       "<div>\n",
       "<style scoped>\n",
       "    .dataframe tbody tr th:only-of-type {\n",
       "        vertical-align: middle;\n",
       "    }\n",
       "\n",
       "    .dataframe tbody tr th {\n",
       "        vertical-align: top;\n",
       "    }\n",
       "\n",
       "    .dataframe thead th {\n",
       "        text-align: right;\n",
       "    }\n",
       "</style>\n",
       "<table border=\"1\" class=\"dataframe\">\n",
       "  <thead>\n",
       "    <tr style=\"text-align: right;\">\n",
       "      <th></th>\n",
       "      <th>PassengerId</th>\n",
       "      <th>Pclass</th>\n",
       "      <th>Name</th>\n",
       "      <th>Sex</th>\n",
       "      <th>Age</th>\n",
       "      <th>SibSp</th>\n",
       "      <th>Parch</th>\n",
       "      <th>Ticket</th>\n",
       "      <th>Fare</th>\n",
       "      <th>Cabin</th>\n",
       "      <th>Embarked</th>\n",
       "    </tr>\n",
       "  </thead>\n",
       "  <tbody>\n",
       "    <tr>\n",
       "      <th>307</th>\n",
       "      <td>1199</td>\n",
       "      <td>3</td>\n",
       "      <td>Aks, Master. Philip Frank</td>\n",
       "      <td>male</td>\n",
       "      <td>0.83</td>\n",
       "      <td>0</td>\n",
       "      <td>1</td>\n",
       "      <td>392091</td>\n",
       "      <td>9.3500</td>\n",
       "      <td>NaN</td>\n",
       "      <td>S</td>\n",
       "    </tr>\n",
       "    <tr>\n",
       "      <th>234</th>\n",
       "      <td>1126</td>\n",
       "      <td>1</td>\n",
       "      <td>Cumings, Mr. John Bradley</td>\n",
       "      <td>male</td>\n",
       "      <td>39.00</td>\n",
       "      <td>1</td>\n",
       "      <td>0</td>\n",
       "      <td>PC 17599</td>\n",
       "      <td>71.2833</td>\n",
       "      <td>C85</td>\n",
       "      <td>C</td>\n",
       "    </tr>\n",
       "    <tr>\n",
       "      <th>345</th>\n",
       "      <td>1237</td>\n",
       "      <td>3</td>\n",
       "      <td>Abelseth, Miss. Karen Marie</td>\n",
       "      <td>female</td>\n",
       "      <td>16.00</td>\n",
       "      <td>0</td>\n",
       "      <td>0</td>\n",
       "      <td>348125</td>\n",
       "      <td>7.6500</td>\n",
       "      <td>NaN</td>\n",
       "      <td>S</td>\n",
       "    </tr>\n",
       "    <tr>\n",
       "      <th>63</th>\n",
       "      <td>955</td>\n",
       "      <td>3</td>\n",
       "      <td>Bradley, Miss. Bridget Delia</td>\n",
       "      <td>female</td>\n",
       "      <td>22.00</td>\n",
       "      <td>0</td>\n",
       "      <td>0</td>\n",
       "      <td>334914</td>\n",
       "      <td>7.7250</td>\n",
       "      <td>NaN</td>\n",
       "      <td>Q</td>\n",
       "    </tr>\n",
       "    <tr>\n",
       "      <th>70</th>\n",
       "      <td>962</td>\n",
       "      <td>3</td>\n",
       "      <td>Mulvihill, Miss. Bertha E</td>\n",
       "      <td>female</td>\n",
       "      <td>24.00</td>\n",
       "      <td>0</td>\n",
       "      <td>0</td>\n",
       "      <td>382653</td>\n",
       "      <td>7.7500</td>\n",
       "      <td>NaN</td>\n",
       "      <td>Q</td>\n",
       "    </tr>\n",
       "  </tbody>\n",
       "</table>\n",
       "</div>"
      ],
      "text/plain": [
       "     PassengerId  Pclass                          Name     Sex    Age  SibSp   \n",
       "307         1199       3     Aks, Master. Philip Frank    male   0.83      0  \\\n",
       "234         1126       1     Cumings, Mr. John Bradley    male  39.00      1   \n",
       "345         1237       3   Abelseth, Miss. Karen Marie  female  16.00      0   \n",
       "63           955       3  Bradley, Miss. Bridget Delia  female  22.00      0   \n",
       "70           962       3     Mulvihill, Miss. Bertha E  female  24.00      0   \n",
       "\n",
       "     Parch    Ticket     Fare Cabin Embarked  \n",
       "307      1    392091   9.3500   NaN        S  \n",
       "234      0  PC 17599  71.2833   C85        C  \n",
       "345      0    348125   7.6500   NaN        S  \n",
       "63       0    334914   7.7250   NaN        Q  \n",
       "70       0    382653   7.7500   NaN        Q  "
      ]
     },
     "execution_count": 4,
     "metadata": {},
     "output_type": "execute_result"
    }
   ],
   "source": [
    "test.sample(5)"
   ]
  },
  {
   "cell_type": "markdown",
   "id": "8ac07698",
   "metadata": {},
   "source": [
    "Let's concatenate two datasets for the convenience of further processing"
   ]
  },
  {
   "cell_type": "code",
   "execution_count": 5,
   "id": "7027f8c5",
   "metadata": {},
   "outputs": [],
   "source": [
    "test['survived'] = np.nan"
   ]
  },
  {
   "cell_type": "code",
   "execution_count": 6,
   "id": "9873c3b8",
   "metadata": {},
   "outputs": [],
   "source": [
    "train['survived'] = train['Survived']"
   ]
  },
  {
   "cell_type": "code",
   "execution_count": 7,
   "id": "131ab302",
   "metadata": {},
   "outputs": [],
   "source": [
    "train = train.drop('Survived', axis=1)"
   ]
  },
  {
   "cell_type": "code",
   "execution_count": 8,
   "id": "5050a453",
   "metadata": {},
   "outputs": [
    {
     "data": {
      "text/plain": [
       "Index(['PassengerId', 'Pclass', 'Name', 'Sex', 'Age', 'SibSp', 'Parch',\n",
       "       'Ticket', 'Fare', 'Cabin', 'Embarked', 'survived'],\n",
       "      dtype='object')"
      ]
     },
     "execution_count": 8,
     "metadata": {},
     "output_type": "execute_result"
    }
   ],
   "source": [
    "test.columns"
   ]
  },
  {
   "cell_type": "code",
   "execution_count": 9,
   "id": "c79f65dc",
   "metadata": {},
   "outputs": [
    {
     "data": {
      "text/plain": [
       "Index(['PassengerId', 'Pclass', 'Name', 'Sex', 'Age', 'SibSp', 'Parch',\n",
       "       'Ticket', 'Fare', 'Cabin', 'Embarked', 'survived'],\n",
       "      dtype='object')"
      ]
     },
     "execution_count": 9,
     "metadata": {},
     "output_type": "execute_result"
    }
   ],
   "source": [
    "train.columns"
   ]
  },
  {
   "cell_type": "code",
   "execution_count": 10,
   "id": "f0a8a0a8",
   "metadata": {},
   "outputs": [],
   "source": [
    "df = pd.concat([train, test])"
   ]
  },
  {
   "cell_type": "code",
   "execution_count": 11,
   "id": "98c099c6",
   "metadata": {},
   "outputs": [
    {
     "data": {
      "text/html": [
       "<div>\n",
       "<style scoped>\n",
       "    .dataframe tbody tr th:only-of-type {\n",
       "        vertical-align: middle;\n",
       "    }\n",
       "\n",
       "    .dataframe tbody tr th {\n",
       "        vertical-align: top;\n",
       "    }\n",
       "\n",
       "    .dataframe thead th {\n",
       "        text-align: right;\n",
       "    }\n",
       "</style>\n",
       "<table border=\"1\" class=\"dataframe\">\n",
       "  <thead>\n",
       "    <tr style=\"text-align: right;\">\n",
       "      <th></th>\n",
       "      <th>PassengerId</th>\n",
       "      <th>Pclass</th>\n",
       "      <th>Name</th>\n",
       "      <th>Sex</th>\n",
       "      <th>Age</th>\n",
       "      <th>SibSp</th>\n",
       "      <th>Parch</th>\n",
       "      <th>Ticket</th>\n",
       "      <th>Fare</th>\n",
       "      <th>Cabin</th>\n",
       "      <th>Embarked</th>\n",
       "      <th>survived</th>\n",
       "    </tr>\n",
       "  </thead>\n",
       "  <tbody>\n",
       "    <tr>\n",
       "      <th>159</th>\n",
       "      <td>160</td>\n",
       "      <td>3</td>\n",
       "      <td>Sage, Master. Thomas Henry</td>\n",
       "      <td>male</td>\n",
       "      <td>NaN</td>\n",
       "      <td>8</td>\n",
       "      <td>2</td>\n",
       "      <td>CA. 2343</td>\n",
       "      <td>69.5500</td>\n",
       "      <td>NaN</td>\n",
       "      <td>S</td>\n",
       "      <td>0.0</td>\n",
       "    </tr>\n",
       "    <tr>\n",
       "      <th>731</th>\n",
       "      <td>732</td>\n",
       "      <td>3</td>\n",
       "      <td>Hassan, Mr. Houssein G N</td>\n",
       "      <td>male</td>\n",
       "      <td>11.0</td>\n",
       "      <td>0</td>\n",
       "      <td>0</td>\n",
       "      <td>2699</td>\n",
       "      <td>18.7875</td>\n",
       "      <td>NaN</td>\n",
       "      <td>C</td>\n",
       "      <td>0.0</td>\n",
       "    </tr>\n",
       "    <tr>\n",
       "      <th>497</th>\n",
       "      <td>498</td>\n",
       "      <td>3</td>\n",
       "      <td>Shellard, Mr. Frederick William</td>\n",
       "      <td>male</td>\n",
       "      <td>NaN</td>\n",
       "      <td>0</td>\n",
       "      <td>0</td>\n",
       "      <td>C.A. 6212</td>\n",
       "      <td>15.1000</td>\n",
       "      <td>NaN</td>\n",
       "      <td>S</td>\n",
       "      <td>0.0</td>\n",
       "    </tr>\n",
       "    <tr>\n",
       "      <th>435</th>\n",
       "      <td>436</td>\n",
       "      <td>1</td>\n",
       "      <td>Carter, Miss. Lucile Polk</td>\n",
       "      <td>female</td>\n",
       "      <td>14.0</td>\n",
       "      <td>1</td>\n",
       "      <td>2</td>\n",
       "      <td>113760</td>\n",
       "      <td>120.0000</td>\n",
       "      <td>B96 B98</td>\n",
       "      <td>S</td>\n",
       "      <td>1.0</td>\n",
       "    </tr>\n",
       "    <tr>\n",
       "      <th>137</th>\n",
       "      <td>1029</td>\n",
       "      <td>2</td>\n",
       "      <td>Schmidt, Mr. August</td>\n",
       "      <td>male</td>\n",
       "      <td>26.0</td>\n",
       "      <td>0</td>\n",
       "      <td>0</td>\n",
       "      <td>248659</td>\n",
       "      <td>13.0000</td>\n",
       "      <td>NaN</td>\n",
       "      <td>S</td>\n",
       "      <td>NaN</td>\n",
       "    </tr>\n",
       "  </tbody>\n",
       "</table>\n",
       "</div>"
      ],
      "text/plain": [
       "     PassengerId  Pclass                             Name     Sex   Age   \n",
       "159          160       3       Sage, Master. Thomas Henry    male   NaN  \\\n",
       "731          732       3         Hassan, Mr. Houssein G N    male  11.0   \n",
       "497          498       3  Shellard, Mr. Frederick William    male   NaN   \n",
       "435          436       1        Carter, Miss. Lucile Polk  female  14.0   \n",
       "137         1029       2              Schmidt, Mr. August    male  26.0   \n",
       "\n",
       "     SibSp  Parch     Ticket      Fare    Cabin Embarked  survived  \n",
       "159      8      2   CA. 2343   69.5500      NaN        S       0.0  \n",
       "731      0      0       2699   18.7875      NaN        C       0.0  \n",
       "497      0      0  C.A. 6212   15.1000      NaN        S       0.0  \n",
       "435      1      2     113760  120.0000  B96 B98        S       1.0  \n",
       "137      0      0     248659   13.0000      NaN        S       NaN  "
      ]
     },
     "execution_count": 11,
     "metadata": {},
     "output_type": "execute_result"
    }
   ],
   "source": [
    "df.sample(5)"
   ]
  },
  {
   "cell_type": "markdown",
   "id": "86aabada",
   "metadata": {},
   "source": [
    "For convenience, we will reduce the names of the features to lower case."
   ]
  },
  {
   "cell_type": "code",
   "execution_count": 12,
   "id": "b48f9740",
   "metadata": {},
   "outputs": [],
   "source": [
    "df.columns = df.columns.str.lower()"
   ]
  },
  {
   "cell_type": "markdown",
   "id": "6b85e6ae",
   "metadata": {},
   "source": [
    "#### 2.3. Missing Values"
   ]
  },
  {
   "cell_type": "code",
   "execution_count": 13,
   "id": "80b9710d",
   "metadata": {},
   "outputs": [
    {
     "data": {
      "text/plain": [
       "passengerid     0.000000\n",
       "pclass          0.000000\n",
       "name            0.000000\n",
       "sex             0.000000\n",
       "age            20.091673\n",
       "sibsp           0.000000\n",
       "parch           0.000000\n",
       "ticket          0.000000\n",
       "fare            0.076394\n",
       "cabin          77.463713\n",
       "embarked        0.152788\n",
       "survived       31.932773\n",
       "dtype: float64"
      ]
     },
     "execution_count": 13,
     "metadata": {},
     "output_type": "execute_result"
    }
   ],
   "source": [
    "df.isnull().sum()/len(df)*100"
   ]
  },
  {
   "cell_type": "markdown",
   "id": "a282a64f",
   "metadata": {},
   "source": [
    "From the data, we see that three features have missing values — ```age```, ```cabin```, ```embarked```"
   ]
  },
  {
   "cell_type": "markdown",
   "id": "ae0d0f27",
   "metadata": {},
   "source": [
    "##### Figure out why the data is missing\n",
    "Is this value missing becuase it wasn't recorded or becuase it dosen't exist?\n"
   ]
  },
  {
   "cell_type": "markdown",
   "id": "e4474453",
   "metadata": {},
   "source": [
    "Let's start with age"
   ]
  },
  {
   "cell_type": "code",
   "execution_count": 14,
   "id": "33bd6e55",
   "metadata": {},
   "outputs": [
    {
     "data": {
      "text/html": [
       "<div>\n",
       "<style scoped>\n",
       "    .dataframe tbody tr th:only-of-type {\n",
       "        vertical-align: middle;\n",
       "    }\n",
       "\n",
       "    .dataframe tbody tr th {\n",
       "        vertical-align: top;\n",
       "    }\n",
       "\n",
       "    .dataframe thead th {\n",
       "        text-align: right;\n",
       "    }\n",
       "</style>\n",
       "<table border=\"1\" class=\"dataframe\">\n",
       "  <thead>\n",
       "    <tr style=\"text-align: right;\">\n",
       "      <th></th>\n",
       "      <th>passengerid</th>\n",
       "      <th>pclass</th>\n",
       "      <th>name</th>\n",
       "      <th>sex</th>\n",
       "      <th>age</th>\n",
       "      <th>sibsp</th>\n",
       "      <th>parch</th>\n",
       "      <th>ticket</th>\n",
       "      <th>fare</th>\n",
       "      <th>cabin</th>\n",
       "      <th>embarked</th>\n",
       "      <th>survived</th>\n",
       "    </tr>\n",
       "  </thead>\n",
       "  <tbody>\n",
       "    <tr>\n",
       "      <th>5</th>\n",
       "      <td>6</td>\n",
       "      <td>3</td>\n",
       "      <td>Moran, Mr. James</td>\n",
       "      <td>male</td>\n",
       "      <td>NaN</td>\n",
       "      <td>0</td>\n",
       "      <td>0</td>\n",
       "      <td>330877</td>\n",
       "      <td>8.4583</td>\n",
       "      <td>NaN</td>\n",
       "      <td>Q</td>\n",
       "      <td>0.0</td>\n",
       "    </tr>\n",
       "    <tr>\n",
       "      <th>17</th>\n",
       "      <td>18</td>\n",
       "      <td>2</td>\n",
       "      <td>Williams, Mr. Charles Eugene</td>\n",
       "      <td>male</td>\n",
       "      <td>NaN</td>\n",
       "      <td>0</td>\n",
       "      <td>0</td>\n",
       "      <td>244373</td>\n",
       "      <td>13.0000</td>\n",
       "      <td>NaN</td>\n",
       "      <td>S</td>\n",
       "      <td>1.0</td>\n",
       "    </tr>\n",
       "    <tr>\n",
       "      <th>19</th>\n",
       "      <td>20</td>\n",
       "      <td>3</td>\n",
       "      <td>Masselmani, Mrs. Fatima</td>\n",
       "      <td>female</td>\n",
       "      <td>NaN</td>\n",
       "      <td>0</td>\n",
       "      <td>0</td>\n",
       "      <td>2649</td>\n",
       "      <td>7.2250</td>\n",
       "      <td>NaN</td>\n",
       "      <td>C</td>\n",
       "      <td>1.0</td>\n",
       "    </tr>\n",
       "    <tr>\n",
       "      <th>26</th>\n",
       "      <td>27</td>\n",
       "      <td>3</td>\n",
       "      <td>Emir, Mr. Farred Chehab</td>\n",
       "      <td>male</td>\n",
       "      <td>NaN</td>\n",
       "      <td>0</td>\n",
       "      <td>0</td>\n",
       "      <td>2631</td>\n",
       "      <td>7.2250</td>\n",
       "      <td>NaN</td>\n",
       "      <td>C</td>\n",
       "      <td>0.0</td>\n",
       "    </tr>\n",
       "    <tr>\n",
       "      <th>28</th>\n",
       "      <td>29</td>\n",
       "      <td>3</td>\n",
       "      <td>O'Dwyer, Miss. Ellen \"Nellie\"</td>\n",
       "      <td>female</td>\n",
       "      <td>NaN</td>\n",
       "      <td>0</td>\n",
       "      <td>0</td>\n",
       "      <td>330959</td>\n",
       "      <td>7.8792</td>\n",
       "      <td>NaN</td>\n",
       "      <td>Q</td>\n",
       "      <td>1.0</td>\n",
       "    </tr>\n",
       "    <tr>\n",
       "      <th>...</th>\n",
       "      <td>...</td>\n",
       "      <td>...</td>\n",
       "      <td>...</td>\n",
       "      <td>...</td>\n",
       "      <td>...</td>\n",
       "      <td>...</td>\n",
       "      <td>...</td>\n",
       "      <td>...</td>\n",
       "      <td>...</td>\n",
       "      <td>...</td>\n",
       "      <td>...</td>\n",
       "      <td>...</td>\n",
       "    </tr>\n",
       "    <tr>\n",
       "      <th>408</th>\n",
       "      <td>1300</td>\n",
       "      <td>3</td>\n",
       "      <td>Riordan, Miss. Johanna Hannah\"\"</td>\n",
       "      <td>female</td>\n",
       "      <td>NaN</td>\n",
       "      <td>0</td>\n",
       "      <td>0</td>\n",
       "      <td>334915</td>\n",
       "      <td>7.7208</td>\n",
       "      <td>NaN</td>\n",
       "      <td>Q</td>\n",
       "      <td>NaN</td>\n",
       "    </tr>\n",
       "    <tr>\n",
       "      <th>410</th>\n",
       "      <td>1302</td>\n",
       "      <td>3</td>\n",
       "      <td>Naughton, Miss. Hannah</td>\n",
       "      <td>female</td>\n",
       "      <td>NaN</td>\n",
       "      <td>0</td>\n",
       "      <td>0</td>\n",
       "      <td>365237</td>\n",
       "      <td>7.7500</td>\n",
       "      <td>NaN</td>\n",
       "      <td>Q</td>\n",
       "      <td>NaN</td>\n",
       "    </tr>\n",
       "    <tr>\n",
       "      <th>413</th>\n",
       "      <td>1305</td>\n",
       "      <td>3</td>\n",
       "      <td>Spector, Mr. Woolf</td>\n",
       "      <td>male</td>\n",
       "      <td>NaN</td>\n",
       "      <td>0</td>\n",
       "      <td>0</td>\n",
       "      <td>A.5. 3236</td>\n",
       "      <td>8.0500</td>\n",
       "      <td>NaN</td>\n",
       "      <td>S</td>\n",
       "      <td>NaN</td>\n",
       "    </tr>\n",
       "    <tr>\n",
       "      <th>416</th>\n",
       "      <td>1308</td>\n",
       "      <td>3</td>\n",
       "      <td>Ware, Mr. Frederick</td>\n",
       "      <td>male</td>\n",
       "      <td>NaN</td>\n",
       "      <td>0</td>\n",
       "      <td>0</td>\n",
       "      <td>359309</td>\n",
       "      <td>8.0500</td>\n",
       "      <td>NaN</td>\n",
       "      <td>S</td>\n",
       "      <td>NaN</td>\n",
       "    </tr>\n",
       "    <tr>\n",
       "      <th>417</th>\n",
       "      <td>1309</td>\n",
       "      <td>3</td>\n",
       "      <td>Peter, Master. Michael J</td>\n",
       "      <td>male</td>\n",
       "      <td>NaN</td>\n",
       "      <td>1</td>\n",
       "      <td>1</td>\n",
       "      <td>2668</td>\n",
       "      <td>22.3583</td>\n",
       "      <td>NaN</td>\n",
       "      <td>C</td>\n",
       "      <td>NaN</td>\n",
       "    </tr>\n",
       "  </tbody>\n",
       "</table>\n",
       "<p>263 rows × 12 columns</p>\n",
       "</div>"
      ],
      "text/plain": [
       "     passengerid  pclass                             name     sex  age  sibsp   \n",
       "5              6       3                 Moran, Mr. James    male  NaN      0  \\\n",
       "17            18       2     Williams, Mr. Charles Eugene    male  NaN      0   \n",
       "19            20       3          Masselmani, Mrs. Fatima  female  NaN      0   \n",
       "26            27       3          Emir, Mr. Farred Chehab    male  NaN      0   \n",
       "28            29       3    O'Dwyer, Miss. Ellen \"Nellie\"  female  NaN      0   \n",
       "..           ...     ...                              ...     ...  ...    ...   \n",
       "408         1300       3  Riordan, Miss. Johanna Hannah\"\"  female  NaN      0   \n",
       "410         1302       3           Naughton, Miss. Hannah  female  NaN      0   \n",
       "413         1305       3               Spector, Mr. Woolf    male  NaN      0   \n",
       "416         1308       3              Ware, Mr. Frederick    male  NaN      0   \n",
       "417         1309       3         Peter, Master. Michael J    male  NaN      1   \n",
       "\n",
       "     parch     ticket     fare cabin embarked  survived  \n",
       "5        0     330877   8.4583   NaN        Q       0.0  \n",
       "17       0     244373  13.0000   NaN        S       1.0  \n",
       "19       0       2649   7.2250   NaN        C       1.0  \n",
       "26       0       2631   7.2250   NaN        C       0.0  \n",
       "28       0     330959   7.8792   NaN        Q       1.0  \n",
       "..     ...        ...      ...   ...      ...       ...  \n",
       "408      0     334915   7.7208   NaN        Q       NaN  \n",
       "410      0     365237   7.7500   NaN        Q       NaN  \n",
       "413      0  A.5. 3236   8.0500   NaN        S       NaN  \n",
       "416      0     359309   8.0500   NaN        S       NaN  \n",
       "417      1       2668  22.3583   NaN        C       NaN  \n",
       "\n",
       "[263 rows x 12 columns]"
      ]
     },
     "execution_count": 14,
     "metadata": {},
     "output_type": "execute_result"
    }
   ],
   "source": [
    "df[df['age'].isnull()]"
   ]
  },
  {
   "cell_type": "code",
   "execution_count": 15,
   "id": "1e7d031d",
   "metadata": {},
   "outputs": [],
   "source": [
    "df.loc[df['age'].isnull(), 'age'] = df['age'].median()"
   ]
  },
  {
   "cell_type": "code",
   "execution_count": 16,
   "id": "87fa9676",
   "metadata": {},
   "outputs": [],
   "source": [
    "df.loc[df['fare'].isnull(), 'fare'] = df['fare'].median()"
   ]
  },
  {
   "cell_type": "code",
   "execution_count": 17,
   "id": "22402343",
   "metadata": {},
   "outputs": [],
   "source": [
    "df.loc[df['embarked'].isnull(), 'embarked'] = 'S'"
   ]
  },
  {
   "cell_type": "markdown",
   "id": "2c03f1e0",
   "metadata": {},
   "source": [
    "My next hypothesis is that perhaps the location of the cabin also affects the survival of passengers during the tragedy on the Titanic. It is possible that the cabins located under certain letters or numbers were much further from the rescue or evacuation exits, which made it difficult for passengers to get out of their cabins in an emergency."
   ]
  },
  {
   "cell_type": "markdown",
   "id": "111854bb",
   "metadata": {},
   "source": [
    "##### Dropping Features"
   ]
  },
  {
   "cell_type": "markdown",
   "id": "e354149c",
   "metadata": {},
   "source": [
    "\n",
    "```PassengerId``` may be dropped from training dataset as it does not contribute to survival.\n",
    "\n",
    "```Name``` feature is relatively non-standard, may not contribute directly to survival, so maybe dropped."
   ]
  },
  {
   "cell_type": "code",
   "execution_count": 18,
   "id": "a62b40e8",
   "metadata": {},
   "outputs": [],
   "source": [
    "df = df.drop(['passengerid', 'name', 'cabin'], axis=1)"
   ]
  },
  {
   "cell_type": "code",
   "execution_count": 19,
   "id": "ca818acb",
   "metadata": {},
   "outputs": [],
   "source": [
    "df = df.drop(['ticket'], axis=1)"
   ]
  },
  {
   "cell_type": "code",
   "execution_count": 20,
   "id": "f6df4510",
   "metadata": {},
   "outputs": [
    {
     "data": {
      "text/plain": [
       "pclass       0.000000\n",
       "sex          0.000000\n",
       "age          0.000000\n",
       "sibsp        0.000000\n",
       "parch        0.000000\n",
       "fare         0.000000\n",
       "embarked     0.000000\n",
       "survived    31.932773\n",
       "dtype: float64"
      ]
     },
     "execution_count": 20,
     "metadata": {},
     "output_type": "execute_result"
    }
   ],
   "source": [
    "df.isnull().sum()/len(df)*100"
   ]
  },
  {
   "cell_type": "markdown",
   "id": "0bb71e27",
   "metadata": {},
   "source": [
    "#### 2.4. Encoding Categorical Data"
   ]
  },
  {
   "cell_type": "markdown",
   "id": "0833cc08",
   "metadata": {},
   "source": [
    "This dataset contains both numerical and categorical characteristics. The latter take string values, each representing a specific category. Logistic regression can only work with numerical variables, and categorical data must be additionally prepared before training the model."
   ]
  },
  {
   "cell_type": "code",
   "execution_count": 22,
   "id": "5c79f7e1",
   "metadata": {},
   "outputs": [
    {
     "data": {
      "text/plain": [
       "array(['male', 'female'], dtype=object)"
      ]
     },
     "execution_count": 22,
     "metadata": {},
     "output_type": "execute_result"
    }
   ],
   "source": [
    "df['sex'].unique()"
   ]
  },
  {
   "cell_type": "code",
   "execution_count": 23,
   "id": "c525a44d",
   "metadata": {},
   "outputs": [
    {
     "data": {
      "text/plain": [
       "array(['S', 'C', 'Q'], dtype=object)"
      ]
     },
     "execution_count": 23,
     "metadata": {},
     "output_type": "execute_result"
    }
   ],
   "source": [
    "df['embarked'].unique()"
   ]
  },
  {
   "cell_type": "code",
   "execution_count": 24,
   "id": "f75f31a8",
   "metadata": {},
   "outputs": [],
   "source": [
    "df = pd.concat([df, pd.get_dummies(df['embarked'])], axis=1)"
   ]
  },
  {
   "cell_type": "code",
   "execution_count": 25,
   "id": "65099b10",
   "metadata": {},
   "outputs": [],
   "source": [
    "df = df.drop('embarked', axis=1)"
   ]
  },
  {
   "cell_type": "code",
   "execution_count": 26,
   "id": "587fe45a",
   "metadata": {},
   "outputs": [],
   "source": [
    "df = pd.concat([df, pd.get_dummies(df['sex'])], axis=1)"
   ]
  },
  {
   "cell_type": "code",
   "execution_count": 27,
   "id": "a621dc83",
   "metadata": {},
   "outputs": [],
   "source": [
    "df = df.drop('sex', axis=1)"
   ]
  },
  {
   "cell_type": "code",
   "execution_count": 28,
   "id": "e1398e34",
   "metadata": {},
   "outputs": [],
   "source": [
    "from pandas.api.types import CategoricalDtype"
   ]
  },
  {
   "cell_type": "code",
   "execution_count": 29,
   "id": "92cf8dbd",
   "metadata": {},
   "outputs": [],
   "source": [
    "df['C'] = df['C'].astype(int)    "
   ]
  },
  {
   "cell_type": "code",
   "execution_count": 30,
   "id": "5b15c420",
   "metadata": {},
   "outputs": [],
   "source": [
    "df['C'] = df['C'].astype('category')\n",
    "df['Q'] = df['Q'].astype('category')\n",
    "df['S'] = df['S'].astype('category')\n",
    "df['female'] = df['female'].astype('category')\n",
    "df['male'] = df['male'].astype('category')"
   ]
  },
  {
   "cell_type": "code",
   "execution_count": 31,
   "id": "51550da8",
   "metadata": {},
   "outputs": [],
   "source": [
    "df['C'] = df['C'].astype('int')\n",
    "df['Q'] = df['Q'].astype('int')\n",
    "df['S'] = df['S'].astype('int')\n",
    "df['female'] = df['female'].astype('int')\n",
    "df['male'] = df['male'].astype('int')"
   ]
  },
  {
   "cell_type": "markdown",
   "id": "7597ee2b",
   "metadata": {},
   "source": [
    "#### 2.5. Train-Test Split"
   ]
  },
  {
   "cell_type": "code",
   "execution_count": 35,
   "id": "d5845366",
   "metadata": {},
   "outputs": [],
   "source": [
    "train = df[df['survived'].notnull()]"
   ]
  },
  {
   "cell_type": "code",
   "execution_count": 36,
   "id": "b1100461",
   "metadata": {},
   "outputs": [],
   "source": [
    "test = df[df['survived'].isnull()]"
   ]
  },
  {
   "cell_type": "code",
   "execution_count": 37,
   "id": "e1005aa4",
   "metadata": {},
   "outputs": [],
   "source": [
    "test = test.drop('survived', axis=1)"
   ]
  },
  {
   "cell_type": "markdown",
   "id": "42f33428",
   "metadata": {},
   "source": [
    "#### 2.6. Feature Scaling"
   ]
  },
  {
   "cell_type": "code",
   "execution_count": null,
   "id": "feb09894",
   "metadata": {},
   "outputs": [],
   "source": []
  },
  {
   "cell_type": "markdown",
   "id": "f7ae5880",
   "metadata": {},
   "source": [
    "#### Data Balance\n",
    "🔍 Data imbalance is a property of the distribution of categorical data, where one class is represented significantly more than all the others in the sample.\n",
    "\n",
    "In such cases, we would have to exclude some observations from the entire sample in order to make the comparison more accurate. Let's assume that we are sure that the data collected reflects the general population, so we will not do anything extra. Our data contains all passengers without exception, so we can do nothing."
   ]
  },
  {
   "cell_type": "markdown",
   "id": "4cd86bae",
   "metadata": {},
   "source": [
    "### Step 3. Building the Model"
   ]
  },
  {
   "cell_type": "code",
   "execution_count": 38,
   "id": "04548088",
   "metadata": {},
   "outputs": [],
   "source": [
    "import statsmodels.api as sm\n",
    "from statsmodels.genmod.generalized_linear_model import GLM\n",
    "from statsmodels.genmod import families\n",
    "import statsmodels.stats.tests.test_influence\n",
    "from mlxtend.feature_selection import SequentialFeatureSelector\n",
    "from sklearn import linear_model"
   ]
  },
  {
   "cell_type": "markdown",
   "id": "eeafa04c",
   "metadata": {},
   "source": [
    "We build as many models as we have predictors. In our case, these are seven models. We start with a model in which there is one predictor, then we successively add the remaining ones. We focus on the likelihood ratios (Log-Likelihood) to understand which model is best suited to explain the data.\n",
    "\n",
    "Note that if, when an additional predictor is included, another independent variable turns from insignificant to significant, then this will be a reason to think about the violation of the assumption of uncorrelated predictors.\n",
    "\n",
    "If two variables are strongly related to each other, then their coefficients will be indeterminate, that is, an arbitrary mutual change in the coefficients in front of them will lead to the same model."
   ]
  },
  {
   "cell_type": "markdown",
   "id": "a845441f",
   "metadata": {},
   "source": [
    "To create a model, use the GLM command from sm. Write the results of the command to the model_1 object. The first parameter is the survivability dependent variable ```train['survived']```. The second parameter specifies a sheet with all independent variables. Let's start with the gender variable. As the last parameter, we specify ```family=families.Binomial()``` to indicate that we are using binomial logistic regression.\n",
    "\n",
    "Finally, we initialize the creation of the model with the ```fit()``` method. Finally, we will display the results."
   ]
  },
  {
   "cell_type": "code",
   "execution_count": 39,
   "id": "4ca4144e",
   "metadata": {},
   "outputs": [],
   "source": [
    "sfs = SequentialFeatureSelector(linear_model.LogisticRegression(),\n",
    "                                k_features=3,\n",
    "                                forward=True,\n",
    "                                scoring='accuracy',\n",
    "                                cv=None)"
   ]
  },
  {
   "cell_type": "code",
   "execution_count": 40,
   "id": "341ab007",
   "metadata": {},
   "outputs": [],
   "source": [
    "X = train.drop('survived', axis=1)"
   ]
  },
  {
   "cell_type": "code",
   "execution_count": 41,
   "id": "58f3af87",
   "metadata": {},
   "outputs": [],
   "source": [
    "y = train['survived']"
   ]
  },
  {
   "cell_type": "code",
   "execution_count": 42,
   "id": "f8e03819",
   "metadata": {},
   "outputs": [],
   "source": [
    "selected_features = sfs.fit(X, y)"
   ]
  },
  {
   "cell_type": "code",
   "execution_count": 43,
   "id": "c0bd4ec0",
   "metadata": {},
   "outputs": [
    {
     "data": {
      "text/plain": [
       "('pclass', 'sibsp', 'female')"
      ]
     },
     "execution_count": 43,
     "metadata": {},
     "output_type": "execute_result"
    }
   ],
   "source": [
    "selected_features.k_feature_names_ "
   ]
  },
  {
   "cell_type": "code",
   "execution_count": 44,
   "id": "97c10136",
   "metadata": {},
   "outputs": [],
   "source": [
    "X_tr = train.drop('survived', axis=1)"
   ]
  },
  {
   "cell_type": "code",
   "execution_count": 45,
   "id": "a4f678e1",
   "metadata": {},
   "outputs": [],
   "source": [
    "y_tr = train['survived']"
   ]
  },
  {
   "cell_type": "code",
   "execution_count": 46,
   "id": "3a6fedfd",
   "metadata": {},
   "outputs": [
    {
     "data": {
      "text/plain": [
       "LogisticRegression()"
      ]
     },
     "execution_count": 46,
     "metadata": {},
     "output_type": "execute_result"
    }
   ],
   "source": [
    "logreg = linear_model.LogisticRegression()\n",
    "logreg.fit(X_tr[['pclass', 'sibsp', 'female']], y_tr)"
   ]
  },
  {
   "cell_type": "code",
   "execution_count": 47,
   "id": "800feeee",
   "metadata": {},
   "outputs": [],
   "source": [
    "X_te = test[['pclass', 'sibsp', 'female']]"
   ]
  },
  {
   "cell_type": "code",
   "execution_count": 48,
   "id": "0d001ded",
   "metadata": {},
   "outputs": [],
   "source": [
    "y_pred = logreg.predict(X_te)"
   ]
  },
  {
   "cell_type": "code",
   "execution_count": 49,
   "id": "ec127d54",
   "metadata": {},
   "outputs": [
    {
     "data": {
      "text/html": [
       "<div>\n",
       "<style scoped>\n",
       "    .dataframe tbody tr th:only-of-type {\n",
       "        vertical-align: middle;\n",
       "    }\n",
       "\n",
       "    .dataframe tbody tr th {\n",
       "        vertical-align: top;\n",
       "    }\n",
       "\n",
       "    .dataframe thead th {\n",
       "        text-align: right;\n",
       "    }\n",
       "</style>\n",
       "<table border=\"1\" class=\"dataframe\">\n",
       "  <thead>\n",
       "    <tr style=\"text-align: right;\">\n",
       "      <th></th>\n",
       "      <th>pclass</th>\n",
       "      <th>age</th>\n",
       "      <th>sibsp</th>\n",
       "      <th>parch</th>\n",
       "      <th>fare</th>\n",
       "      <th>survived</th>\n",
       "      <th>C</th>\n",
       "      <th>Q</th>\n",
       "      <th>S</th>\n",
       "      <th>female</th>\n",
       "      <th>male</th>\n",
       "    </tr>\n",
       "  </thead>\n",
       "  <tbody>\n",
       "    <tr>\n",
       "      <th>0</th>\n",
       "      <td>3</td>\n",
       "      <td>22.0</td>\n",
       "      <td>1</td>\n",
       "      <td>0</td>\n",
       "      <td>7.2500</td>\n",
       "      <td>0.0</td>\n",
       "      <td>0</td>\n",
       "      <td>0</td>\n",
       "      <td>1</td>\n",
       "      <td>0</td>\n",
       "      <td>1</td>\n",
       "    </tr>\n",
       "    <tr>\n",
       "      <th>1</th>\n",
       "      <td>1</td>\n",
       "      <td>38.0</td>\n",
       "      <td>1</td>\n",
       "      <td>0</td>\n",
       "      <td>71.2833</td>\n",
       "      <td>1.0</td>\n",
       "      <td>1</td>\n",
       "      <td>0</td>\n",
       "      <td>0</td>\n",
       "      <td>1</td>\n",
       "      <td>0</td>\n",
       "    </tr>\n",
       "    <tr>\n",
       "      <th>2</th>\n",
       "      <td>3</td>\n",
       "      <td>26.0</td>\n",
       "      <td>0</td>\n",
       "      <td>0</td>\n",
       "      <td>7.9250</td>\n",
       "      <td>1.0</td>\n",
       "      <td>0</td>\n",
       "      <td>0</td>\n",
       "      <td>1</td>\n",
       "      <td>1</td>\n",
       "      <td>0</td>\n",
       "    </tr>\n",
       "    <tr>\n",
       "      <th>3</th>\n",
       "      <td>1</td>\n",
       "      <td>35.0</td>\n",
       "      <td>1</td>\n",
       "      <td>0</td>\n",
       "      <td>53.1000</td>\n",
       "      <td>1.0</td>\n",
       "      <td>0</td>\n",
       "      <td>0</td>\n",
       "      <td>1</td>\n",
       "      <td>1</td>\n",
       "      <td>0</td>\n",
       "    </tr>\n",
       "    <tr>\n",
       "      <th>4</th>\n",
       "      <td>3</td>\n",
       "      <td>35.0</td>\n",
       "      <td>0</td>\n",
       "      <td>0</td>\n",
       "      <td>8.0500</td>\n",
       "      <td>0.0</td>\n",
       "      <td>0</td>\n",
       "      <td>0</td>\n",
       "      <td>1</td>\n",
       "      <td>0</td>\n",
       "      <td>1</td>\n",
       "    </tr>\n",
       "    <tr>\n",
       "      <th>...</th>\n",
       "      <td>...</td>\n",
       "      <td>...</td>\n",
       "      <td>...</td>\n",
       "      <td>...</td>\n",
       "      <td>...</td>\n",
       "      <td>...</td>\n",
       "      <td>...</td>\n",
       "      <td>...</td>\n",
       "      <td>...</td>\n",
       "      <td>...</td>\n",
       "      <td>...</td>\n",
       "    </tr>\n",
       "    <tr>\n",
       "      <th>413</th>\n",
       "      <td>3</td>\n",
       "      <td>28.0</td>\n",
       "      <td>0</td>\n",
       "      <td>0</td>\n",
       "      <td>8.0500</td>\n",
       "      <td>NaN</td>\n",
       "      <td>0</td>\n",
       "      <td>0</td>\n",
       "      <td>1</td>\n",
       "      <td>0</td>\n",
       "      <td>1</td>\n",
       "    </tr>\n",
       "    <tr>\n",
       "      <th>414</th>\n",
       "      <td>1</td>\n",
       "      <td>39.0</td>\n",
       "      <td>0</td>\n",
       "      <td>0</td>\n",
       "      <td>108.9000</td>\n",
       "      <td>NaN</td>\n",
       "      <td>1</td>\n",
       "      <td>0</td>\n",
       "      <td>0</td>\n",
       "      <td>1</td>\n",
       "      <td>0</td>\n",
       "    </tr>\n",
       "    <tr>\n",
       "      <th>415</th>\n",
       "      <td>3</td>\n",
       "      <td>38.5</td>\n",
       "      <td>0</td>\n",
       "      <td>0</td>\n",
       "      <td>7.2500</td>\n",
       "      <td>NaN</td>\n",
       "      <td>0</td>\n",
       "      <td>0</td>\n",
       "      <td>1</td>\n",
       "      <td>0</td>\n",
       "      <td>1</td>\n",
       "    </tr>\n",
       "    <tr>\n",
       "      <th>416</th>\n",
       "      <td>3</td>\n",
       "      <td>28.0</td>\n",
       "      <td>0</td>\n",
       "      <td>0</td>\n",
       "      <td>8.0500</td>\n",
       "      <td>NaN</td>\n",
       "      <td>0</td>\n",
       "      <td>0</td>\n",
       "      <td>1</td>\n",
       "      <td>0</td>\n",
       "      <td>1</td>\n",
       "    </tr>\n",
       "    <tr>\n",
       "      <th>417</th>\n",
       "      <td>3</td>\n",
       "      <td>28.0</td>\n",
       "      <td>1</td>\n",
       "      <td>1</td>\n",
       "      <td>22.3583</td>\n",
       "      <td>NaN</td>\n",
       "      <td>1</td>\n",
       "      <td>0</td>\n",
       "      <td>0</td>\n",
       "      <td>0</td>\n",
       "      <td>1</td>\n",
       "    </tr>\n",
       "  </tbody>\n",
       "</table>\n",
       "<p>1309 rows × 11 columns</p>\n",
       "</div>"
      ],
      "text/plain": [
       "     pclass   age  sibsp  parch      fare  survived  C  Q  S  female  male\n",
       "0         3  22.0      1      0    7.2500       0.0  0  0  1       0     1\n",
       "1         1  38.0      1      0   71.2833       1.0  1  0  0       1     0\n",
       "2         3  26.0      0      0    7.9250       1.0  0  0  1       1     0\n",
       "3         1  35.0      1      0   53.1000       1.0  0  0  1       1     0\n",
       "4         3  35.0      0      0    8.0500       0.0  0  0  1       0     1\n",
       "..      ...   ...    ...    ...       ...       ... .. .. ..     ...   ...\n",
       "413       3  28.0      0      0    8.0500       NaN  0  0  1       0     1\n",
       "414       1  39.0      0      0  108.9000       NaN  1  0  0       1     0\n",
       "415       3  38.5      0      0    7.2500       NaN  0  0  1       0     1\n",
       "416       3  28.0      0      0    8.0500       NaN  0  0  1       0     1\n",
       "417       3  28.0      1      1   22.3583       NaN  1  0  0       0     1\n",
       "\n",
       "[1309 rows x 11 columns]"
      ]
     },
     "execution_count": 49,
     "metadata": {},
     "output_type": "execute_result"
    }
   ],
   "source": [
    "df"
   ]
  },
  {
   "cell_type": "code",
   "execution_count": 50,
   "id": "0d389c87",
   "metadata": {},
   "outputs": [
    {
     "name": "stdout",
     "output_type": "stream",
     "text": [
      "  feature       VIF\n",
      "0  pclass  1.525366\n",
      "1   sibsp  1.252569\n",
      "2  female  1.405486\n"
     ]
    }
   ],
   "source": [
    "from statsmodels.stats.outliers_influence import variance_inflation_factor\n",
    " \n",
    "X = train[['pclass', 'sibsp', 'female']]\n",
    " \n",
    "vif_data = pd.DataFrame()\n",
    "vif_data[\"feature\"] = X.columns\n",
    " \n",
    "vif_data[\"VIF\"] = [variance_inflation_factor(X.values, i)\n",
    "                          for i in range(len(X.columns))]\n",
    "  \n",
    "print(vif_data)"
   ]
  },
  {
   "cell_type": "code",
   "execution_count": 51,
   "id": "202cd496",
   "metadata": {},
   "outputs": [],
   "source": [
    "test_pred = pd.read_csv('test.csv')"
   ]
  },
  {
   "cell_type": "code",
   "execution_count": 52,
   "id": "30d3576e",
   "metadata": {},
   "outputs": [
    {
     "data": {
      "text/html": [
       "<div>\n",
       "<style scoped>\n",
       "    .dataframe tbody tr th:only-of-type {\n",
       "        vertical-align: middle;\n",
       "    }\n",
       "\n",
       "    .dataframe tbody tr th {\n",
       "        vertical-align: top;\n",
       "    }\n",
       "\n",
       "    .dataframe thead th {\n",
       "        text-align: right;\n",
       "    }\n",
       "</style>\n",
       "<table border=\"1\" class=\"dataframe\">\n",
       "  <thead>\n",
       "    <tr style=\"text-align: right;\">\n",
       "      <th></th>\n",
       "      <th>PassengerId</th>\n",
       "    </tr>\n",
       "  </thead>\n",
       "  <tbody>\n",
       "    <tr>\n",
       "      <th>0</th>\n",
       "      <td>892</td>\n",
       "    </tr>\n",
       "    <tr>\n",
       "      <th>1</th>\n",
       "      <td>893</td>\n",
       "    </tr>\n",
       "    <tr>\n",
       "      <th>2</th>\n",
       "      <td>894</td>\n",
       "    </tr>\n",
       "    <tr>\n",
       "      <th>3</th>\n",
       "      <td>895</td>\n",
       "    </tr>\n",
       "    <tr>\n",
       "      <th>4</th>\n",
       "      <td>896</td>\n",
       "    </tr>\n",
       "    <tr>\n",
       "      <th>...</th>\n",
       "      <td>...</td>\n",
       "    </tr>\n",
       "    <tr>\n",
       "      <th>413</th>\n",
       "      <td>1305</td>\n",
       "    </tr>\n",
       "    <tr>\n",
       "      <th>414</th>\n",
       "      <td>1306</td>\n",
       "    </tr>\n",
       "    <tr>\n",
       "      <th>415</th>\n",
       "      <td>1307</td>\n",
       "    </tr>\n",
       "    <tr>\n",
       "      <th>416</th>\n",
       "      <td>1308</td>\n",
       "    </tr>\n",
       "    <tr>\n",
       "      <th>417</th>\n",
       "      <td>1309</td>\n",
       "    </tr>\n",
       "  </tbody>\n",
       "</table>\n",
       "<p>418 rows × 1 columns</p>\n",
       "</div>"
      ],
      "text/plain": [
       "     PassengerId\n",
       "0            892\n",
       "1            893\n",
       "2            894\n",
       "3            895\n",
       "4            896\n",
       "..           ...\n",
       "413         1305\n",
       "414         1306\n",
       "415         1307\n",
       "416         1308\n",
       "417         1309\n",
       "\n",
       "[418 rows x 1 columns]"
      ]
     },
     "execution_count": 52,
     "metadata": {},
     "output_type": "execute_result"
    }
   ],
   "source": [
    "test_pred[['PassengerId']]"
   ]
  },
  {
   "cell_type": "code",
   "execution_count": 53,
   "id": "acc5d9f4",
   "metadata": {},
   "outputs": [],
   "source": [
    "final = pd.concat([test_pred[['PassengerId']], pd.DataFrame(y_pred)], axis=1)"
   ]
  },
  {
   "cell_type": "code",
   "execution_count": 54,
   "id": "07fd2f71",
   "metadata": {},
   "outputs": [],
   "source": [
    "final = final.rename(columns={0 : 'Survived'})"
   ]
  },
  {
   "cell_type": "code",
   "execution_count": 55,
   "id": "ca09ffc4",
   "metadata": {},
   "outputs": [],
   "source": [
    "final['Survived']  = final['Survived'].astype(int)"
   ]
  },
  {
   "cell_type": "code",
   "execution_count": 56,
   "id": "9ae921b2",
   "metadata": {},
   "outputs": [],
   "source": [
    "final.to_csv('final_titanic.csv', index=False)"
   ]
  },
  {
   "cell_type": "code",
   "execution_count": 57,
   "id": "0e46ddc1",
   "metadata": {},
   "outputs": [
    {
     "data": {
      "text/html": [
       "<div>\n",
       "<style scoped>\n",
       "    .dataframe tbody tr th:only-of-type {\n",
       "        vertical-align: middle;\n",
       "    }\n",
       "\n",
       "    .dataframe tbody tr th {\n",
       "        vertical-align: top;\n",
       "    }\n",
       "\n",
       "    .dataframe thead th {\n",
       "        text-align: right;\n",
       "    }\n",
       "</style>\n",
       "<table border=\"1\" class=\"dataframe\">\n",
       "  <thead>\n",
       "    <tr style=\"text-align: right;\">\n",
       "      <th></th>\n",
       "      <th>PassengerId</th>\n",
       "      <th>Survived</th>\n",
       "    </tr>\n",
       "  </thead>\n",
       "  <tbody>\n",
       "    <tr>\n",
       "      <th>0</th>\n",
       "      <td>892</td>\n",
       "      <td>0</td>\n",
       "    </tr>\n",
       "    <tr>\n",
       "      <th>1</th>\n",
       "      <td>893</td>\n",
       "      <td>1</td>\n",
       "    </tr>\n",
       "    <tr>\n",
       "      <th>2</th>\n",
       "      <td>894</td>\n",
       "      <td>0</td>\n",
       "    </tr>\n",
       "    <tr>\n",
       "      <th>3</th>\n",
       "      <td>895</td>\n",
       "      <td>0</td>\n",
       "    </tr>\n",
       "    <tr>\n",
       "      <th>4</th>\n",
       "      <td>896</td>\n",
       "      <td>1</td>\n",
       "    </tr>\n",
       "    <tr>\n",
       "      <th>...</th>\n",
       "      <td>...</td>\n",
       "      <td>...</td>\n",
       "    </tr>\n",
       "    <tr>\n",
       "      <th>413</th>\n",
       "      <td>1305</td>\n",
       "      <td>0</td>\n",
       "    </tr>\n",
       "    <tr>\n",
       "      <th>414</th>\n",
       "      <td>1306</td>\n",
       "      <td>1</td>\n",
       "    </tr>\n",
       "    <tr>\n",
       "      <th>415</th>\n",
       "      <td>1307</td>\n",
       "      <td>0</td>\n",
       "    </tr>\n",
       "    <tr>\n",
       "      <th>416</th>\n",
       "      <td>1308</td>\n",
       "      <td>0</td>\n",
       "    </tr>\n",
       "    <tr>\n",
       "      <th>417</th>\n",
       "      <td>1309</td>\n",
       "      <td>0</td>\n",
       "    </tr>\n",
       "  </tbody>\n",
       "</table>\n",
       "<p>418 rows × 2 columns</p>\n",
       "</div>"
      ],
      "text/plain": [
       "     PassengerId  Survived\n",
       "0            892         0\n",
       "1            893         1\n",
       "2            894         0\n",
       "3            895         0\n",
       "4            896         1\n",
       "..           ...       ...\n",
       "413         1305         0\n",
       "414         1306         1\n",
       "415         1307         0\n",
       "416         1308         0\n",
       "417         1309         0\n",
       "\n",
       "[418 rows x 2 columns]"
      ]
     },
     "execution_count": 57,
     "metadata": {},
     "output_type": "execute_result"
    }
   ],
   "source": [
    "final"
   ]
  }
 ],
 "metadata": {
  "kernelspec": {
   "display_name": "Python 3 (ipykernel)",
   "language": "python",
   "name": "python3"
  },
  "language_info": {
   "codemirror_mode": {
    "name": "ipython",
    "version": 3
   },
   "file_extension": ".py",
   "mimetype": "text/x-python",
   "name": "python",
   "nbconvert_exporter": "python",
   "pygments_lexer": "ipython3",
   "version": "3.9.13"
  }
 },
 "nbformat": 4,
 "nbformat_minor": 5
}
